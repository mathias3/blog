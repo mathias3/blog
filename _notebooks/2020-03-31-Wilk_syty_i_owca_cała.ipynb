{
 "cells": [
  {
   "cell_type": "markdown",
   "metadata": {},
   "source": [
    "# \"Wilk syty i woca cała, czyli jak przetrwać Covid 19 i nie\"\n",
    "> \"Wszyscy jesteśmy odpowiedzielani za zahamowanie rozwoju koronowirusa. Nasza odpowiedzialnosć polega na wykonywaniu działań, które są słuszne, ale też są i beda mocno niekomfortowe\"\n",
    "\n",
    "- toc: true\n",
    "- branch: master\n",
    "- badges: false\n",
    "- comments: true\n",
    "- author: Maciej Osowski\n",
    "- categories: [Coronavirus, extreme social dictancing, masks, #masks4all, COVID 19, #nosimyMaski]"
   ]
  },
  {
   "cell_type": "markdown",
   "metadata": {},
   "source": [
    "# Motywacja: dlaczego\n",
    "Cześć, nazywam sie Maciej Osowski i postanowiłem napisac ten post gdyz wierzę, że tylko wspólnymi siłami i samodyscypliną mozemy zatrzymać epidemię koronowisrusa( przynajmniej w Polsce). Jedynie w ten sposób jestesmy w stanie uratowac bardzo dużo ludzkich istnień w tym moich i twoich bliskich."
   ]
  },
  {
   "cell_type": "markdown",
   "metadata": {},
   "source": [
    "### Krótko o mnie\n",
    "Na co dzień moja  specjalizacja to liczby, obrobka liczb i wyciaganie znaczeń z tych liczb, ale nie zawsze tak było. Skończyłem psychologię i kierunek związany ze studiami nad wywiadem i dezinformacją. \n",
    "### Dlaczego o tym piszę?\n",
    "Z dwóch powodów:\n",
    "Pierwszy to chcąc o coś apelować musze pokazac minimum kwalifikacji zeby byc wiarogodny\n",
    "Po drugie. To o co apeluje bedzie sie wiazało z małym lub duzym dyskomfortem dla Ciebie. Nie mógłbym Cie o to prosic gdybym sam sie no cos takiego sam nie wystawił. Uwierz mi, pisanie o sobie i wystawianie sie na widok publiczny jest dla mnie bardzoe niekomfortowe\n"
   ]
  },
  {
   "cell_type": "code",
   "execution_count": null,
   "metadata": {},
   "outputs": [],
   "source": []
  },
  {
   "cell_type": "markdown",
   "metadata": {},
   "source": [
    "### O czym nie bedzie ten wpis?\n",
    "Nie bedzie tu odkrywczych wykresów ani analiz. Mozliwe z edowiesz się czegos nowego, ale nie bedzie to nic do czego nie doszedł juz nikt inny. Wszystkie tezy bedą miały żródła , które bedzies zmóg zweryfikowac.\n",
    "W trakcie pracy i nauki nauczyłem sie że nie warto odkrywac koła na nowo. Warto za to stawać na ramionach gigantóœ\n",
    "\n",
    "Celem tego wpisu bedzie zebranie mozliwie najlepszych mozliwych informacji i wyciagniecie wniosków do działania. \n",
    "Nie . Wróc\n",
    "Wyciagniecie wniosków i zachęcenie Cie do działania\n",
    "\n"
   ]
  },
  {
   "cell_type": "markdown",
   "metadata": {},
   "source": [
    "### Co to jest koronowirus COVID 19?\n",
    "Jesli ktoś jeszcze ma wątpliwości to https://www.hopkinsmedicine.org/health/conditions-and-diseases/coronavirus"
   ]
  },
  {
   "cell_type": "markdown",
   "metadata": {},
   "source": [
    "Już wiemy cała siła Covid- 19 zawiera się  dwóch elementach- długim okresie inkubacji i sporej śmiertelności. Wszystkie wczesniejsze wirusy typu SARS , które miały wysoka śmiertelnośc nie mogły sie szybko roznosic , bo smiertelnośc i cięzkie objawy wystepowały szybko i uniemożliwiały zarażonym roznoszenie wirysa. Covid 19 inkubuje sie od 2 do 14 dni- czyli prze taki okres chory chodzi i roznosi wirusa nie mając objawów\n",
    "\n",
    "Ważne: Nie macie objawów, ale zarażacie i funkcjonujac normalnie możecie zarazić wiele osób\n",
    "\n",
    "Dodatkowo z zaleznosci od kraju raportujacego okolo 80 procent zarażonych nie wymaga hospitaliacji. Czyli potencjalnie mimo symptomów, nie czują sie powaznie chorzy i jest ryzyko że mogą nie izolować się\n",
    "Z doswiadczeń lekarzy włoskich dowiadujemy sie tez, że do dużej liczby zakażaeń dochodzi w szpitalach ( ta nieszczesna długa inkubacja) stad jeszcze wyższa śmiertelnosć https://www.statnews.com/2020/03/21/coronavirus-plea-from-italy-treat-patients-at-home/"
   ]
  },
  {
   "cell_type": "code",
   "execution_count": null,
   "metadata": {},
   "outputs": [],
   "source": [
    "Covid 19 jest na tyle nowy , że ciezko go ujac w wiarygodne statystyki, które na ten moment róznią sie pomieðzy państwami, róznymi systemami raportowania etc. Kraj , pierwszego zarazenia czyli Chiny nie jest wiarygodny jesli chodzi o standardy reportowania\n",
    "To jest bardzo wazny element dla Ciebie i twoich bliskich. Musisz zrozumiec że teraz jak i w najblizszej przyszłości w przestrzeni publicznej bedzie funkcjonowało wiele póprawd, plotek i niweryfikowalnych wiadomosci na temat Covid 19\n",
    "Odpowiedzialnym podejsciem do tego wszystkich tych nowinek jest zdrowy scepcytyzm. "
   ]
  },
  {
   "cell_type": "markdown",
   "metadata": {},
   "source": [
    "### Bądz sceptyczny!\n",
    "Musisz sie przygotować, że w przestrzeni publicznej i sieciach społecznościowych bedzie funkcjonowąło i pojawiało sie sporo niesprawdzonych informacj, półprawd lub goracych newsów na temat Covid 19. Taka jest natura człowieka. Jedni aby zdobyć rozgłos beda tworzyc i posyłac dalej niesprawdzone  informacje a wręcz kłamstwa o spustoszeniu jakie powoduje COVID 19. Inni pod wpływem stresu będa w te informacje wierzyć. Lub odwrotnie  Żeby sobie polepszyć humor i chwycić się jsaiejś nadzieji będą rozprzestrzeniac informacje o lekach i nadzwyczajnych i prostych sposbach na lecznie COVID 19. WAżne jest abysmy ze zdrowym sceptycyzmem podchodzili do nagłych informacji zarówno negatywnych i pozytywnych informacji odnośnie COVID 19. Uzywajmy zdrowego rozsądku!"
   ]
  },
  {
   "cell_type": "markdown",
   "metadata": {},
   "source": [
    "### PSY OPS a COVID 19\n",
    "W takich chwilach szczególnego stresu i napiec zarówno społeczeństwa jak i aparatu zarzadzającego państwem czesto zewnetrzni gracze ( państwa , organizacje) chcą wprowadzić zamęt w państwie i za pomoca dezinfformacji zaburzyc funkcjonowanie instytucji albo wywołac panike społeczeństwa. Pamietajmy , że każdy z nas jest w tym okresie szczegónie odpowiedzialny za to co rozprowadza w sieciach społecznosciowych. Bądż sceptyczny!\n"
   ]
  },
  {
   "cell_type": "markdown",
   "metadata": {},
   "source": [
    "# Co wiemy o Covid 19 z duza pewnoscią\n",
    "* długi czas inkubacji {2-14 dni, srednia około 6}\n",
    "* spora śmiertelnosc 1-2 procent przy wolnych respiratorach = nawet do 7-10 procent przy braku respiratorów\n",
    "* spora część chorych potrzebuje hospitalizacji (10 -20 procent ogółu chorych)\n",
    "* spora czesc hospitalizowanych potrzebuje intensywnej terapi z respiratorem 9 ok 5 procent)"
   ]
  },
  {
   "cell_type": "markdown",
   "metadata": {},
   "source": [
    "### Do czego nam znanego jest Covid 19 podobny? \n",
    "Prawdopodobnie do niczego znanego ludziom obecnie zyjacym. Według niektorych modelarzy epidemilologicznych sytuacja z Covid 19 jest najbardziej podobna do pandemi grypy hiszpanki. Daletgo tez rózni epiemiolodzy sugeruja że czaka nas okres cięzkiej walki i zycia do czasu wynalezienia szczepionki lub bardzo skutecznego leku- rozne przewidywania mówia o roku do dwóch z średnią około 1,5 roku\n"
   ]
  },
  {
   "cell_type": "markdown",
   "metadata": {},
   "source": [
    "# Jak życ bez lockdownu \n",
    "Zapewne masz wrażenie, że najlepszy sposób radzenia sobie z COVID 19 to powszechny zakaz wychodznia z domu bez potrzeby i zakaz zgromadzeń. Słusznie, wiekszośc państw z galopująca epidemia musiała zastosowac te kroki, aby nie doprowadzic do przeciążenia systemu opieki zdrowotnej. Ale sa kraje , które dały radę utrzymac niską liczbę chorych bez wprowadzania delkoidacych restrykcji w poruszaniu sie i wychodzeniu z domu. Tokraje takie jak SIngaputr Hong Kong  i Tajwan, które musiały sie zmierzyc z wirusem SARS parę lat temu i na własnych błędach nauczyły się najlepszego sposobu postepowania w razie epidemii. Poszczególne strategie tych państw różnia sie w szczegółach i mają pare elementów , którycna obecna chwile i prawdopodobnie w przyszłosci nie bedziemy mogli wprowadzić w Polsce takich jak:\n",
    "* śledzenie obywateli w kwarantanie przez ciaglą lokalizację telefonu komórkowego\n",
    "* powszechne badanie temperatury przed wejścię do budynku uzeteczności pyblicznej"
   ]
  },
  {
   "cell_type": "markdown",
   "metadata": {},
   "source": [
    "Inne potencjalne dobre wiadomości: https://twitter.com/davidasinclair/status/1241445985844371458/photo/1"
   ]
  },
  {
   "cell_type": "markdown",
   "metadata": {},
   "source": [
    "Ciezko ocenic poziom zakażenia- śmierć do populacji chyba najlepszym miernikiem https://twitter.com/DebbyBogaert/status/1241345828238831617"
   ]
  },
  {
   "cell_type": "code",
   "execution_count": null,
   "metadata": {},
   "outputs": [],
   "source": []
  }
 ],
 "metadata": {
  "kernelspec": {
   "display_name": "Python 3",
   "language": "python",
   "name": "python3"
  },
  "language_info": {
   "codemirror_mode": {
    "name": "ipython",
    "version": 3
   },
   "file_extension": ".py",
   "mimetype": "text/x-python",
   "name": "python",
   "nbconvert_exporter": "python",
   "pygments_lexer": "ipython3",
   "version": "3.8.1"
  }
 },
 "nbformat": 4,
 "nbformat_minor": 4
}
