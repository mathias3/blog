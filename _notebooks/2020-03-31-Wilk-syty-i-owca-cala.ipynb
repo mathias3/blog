{
 "cells": [
  {
   "cell_type": "markdown",
   "metadata": {},
   "source": [
    "# Wilk syty i owca cała\n",
    "> Jak przeżyć pandemię COVID-19 i jednocześnie nie zabić gospodarki.\n",
    "\n",
    "- toc: true \n",
    "- badges: false\n",
    "- comments: true\n",
    "- author: Maciej Osowski\n",
    "- image: my_icons/maska.png\n",
    "- categories: [masks4all]"
   ]
  },
  {
   "cell_type": "markdown",
   "metadata": {},
   "source": [
    "TL;DR znajduje sie na końcu, "
   ]
  },
  {
   "cell_type": "markdown",
   "metadata": {},
   "source": [
    "# Motywacja: dlaczego\n",
    "Cześć, nazywam sie Maciej Osowski i postanowiłem napisać ten post, gdyż wierzę, że tylko wspólnymi siłami i samodyscypliną możemy zatrzymać epidemię koronowisrusa( przynajmniej w Polsce). Jedynie w ten sposób jesteśmy w stanie uratować bardzo dużo ludzkich istnień, w tym moich i twoich bliskich."
   ]
  },
  {
   "cell_type": "markdown",
   "metadata": {},
   "source": [
    "## Krótko o mnie\n",
    "Na co dzień moja specjalizacja to liczby, ich obróbka i wyciąganie z nich znaczeń, ale nie zawsze tak było. Skończyłem psychologię i kierunek związany ze studiami nad wywiadem i dezinformacją."
   ]
  },
  {
   "cell_type": "markdown",
   "metadata": {},
   "source": [
    "![](my_icons/szop.gif)"
   ]
  },
  {
   "cell_type": "markdown",
   "metadata": {},
   "source": [
    " \n",
    "### Dlaczego opisałem czym sie zajmuję?\n",
    "Z dwóch powodów. Po pierwsze czuję, że chcąc o coś apelować, powinienem pokazać minimum kwalifikacji, aby być wiarogodnym.\n",
    "Po drugie to, o co apeluję, będzie sie wiązało z pewnym (być może znacznym) dyskomfortem dla Ciebie. Nie mógłbym Cię o to prosić, gdybym sam się na coć takiego nie wystawił. Uwierz mi, pisanie o sobie i wystawianie się na widok publiczny jest dla mnie bardzo niekomfortowe."
   ]
  },
  {
   "cell_type": "markdown",
   "metadata": {},
   "source": [
    "![](my_icons/shyhello.gif)"
   ]
  },
  {
   "cell_type": "markdown",
   "metadata": {},
   "source": [
    "### O czym nie będzie ten wpis?\n",
    "Nie będzie tu odkrywczych wykresów ani analiz. Możliwe że dowiesz się czegos nowego, ale nie będzie to nic, do czego nie doszedł już ktoś inny. Wszystkie tezy bedą miały źródła, które bedziesz mógł zweryfikowac.\n",
    "W trakcie pracy i nauki nauczyłem się, że nie warto na nowo odkrywać koła. Warto za to stawać na ramionach gigantów.\n",
    "\n",
    "Celem tego wpisu będzie zebranie mozliwie najlepszych informacji i wyciągniecie wniosków do działania. \n",
    "Nie. Wróć.\n",
    "Wyciągnięcie wniosków i zachęcenie Cię do działania.\n",
    "\n"
   ]
  },
  {
   "cell_type": "markdown",
   "metadata": {},
   "source": [
    "### Co to jest koronowirus COVID-19?\n",
    "Jesli ktoś jeszcze ma wątpliwości to https://www.hopkinsmedicine.org/health/conditions-and-diseases/coronavirus"
   ]
  },
  {
   "cell_type": "markdown",
   "metadata": {},
   "source": [
    "Już wiemy, że cała siła COVID-19 opiera się na dwóch elementach: długim okresie inkubacji i sporej śmiertelności. Wszystkie wcześniejsze wirusy typu SARS, które miały wysoka śmiertelność, nie mogły sie szybko roznosić, bo ciężkie objawy i śmiertelność wystepowały szybko. COVID-19 inkubuje się od 2 do 14 dni, czyli przez taki okres chory roznosi wirusa, nie mając objawów.\n",
    "\n",
    "Ważne: nie macie objawów, ale zarażacie i, funkcjonując normalnie, możecie zarazić wiele osób.\n",
    "\n",
    "Dodatkowo w zależności od kraju raportującego około 80 procent zarażonych nie wymaga hospitalizacji. Innymi słowy potencjalnie pomimo symptomów nie czują się poważnie chorzy i jest ryzyko, że mogą nie poddawać się izolacji.\n",
    "Z doświadczeń lekarzy włoskich dowiadujemy się też, że do dużej liczby zakażeń dochodzi w szpitalach (ta nieszczęsna długa inkubacja), stąd jeszcze wyższa śmiertelność https://www.statnews.com/2020/03/21/coronavirus-plea-from-italy-treat-patients-at-home/"
   ]
  },
  {
   "cell_type": "markdown",
   "metadata": {},
   "source": [
    "COVID-19 jest na tyle nowy, że ciężko go ująć w wiarygodne statystyki, które w tej chwili róznią sie pomiędzy państwami, w zależności od systemów raportowania etc. Kraj pierwszego zarażenia, czyli Chiny, nie jest wiarygodny, jesli chodzi o standardy raportowania.\n",
    "To bardzo ważny element dla Ciebie i Twoich bliskich. Musisz zrozumieć, że teraz jak i w najbliższej przyszłości w przestrzeni publicznej będzie funkcjonowało wiele póprawd, plotek i nieweryfikowalnych wiadomości na temat COVID-19.\n",
    "Odpowiedzialnym podejściem do wszystkich nowinek jest zdrowy scepcytyzm. "
   ]
  },
  {
   "cell_type": "markdown",
   "metadata": {},
   "source": [
    "### A więc: Bądz sceptyczny!\n",
    "Musisz się przygotować, że w przestrzeni publicznej i sieciach społecznościowych będzie pojawiało się i funkcjonowało sporo niesprawdzonych informacji, półprawd lub gorących newsów na temat COVID-19. Taka jest natura człowieka. Jedni, aby zdobyć rozgłos, będą rozpowszechniać niesprawdzone informacje (lub wręcz kłamstwa) o spustoszeniu, jakie sieje COVID-19. Inni pod wpływem stresu będa w te informacje wierzyć. Jeszcze inni, aby sobie poprawić humor i chwycić się jakiejś nadziei, będą szerzyć informacje o lekach i nadzwyczajnych a prostych sposobach na lecznie COVID-19. Ważne jest abyśmy ze zdrowym sceptycyzmem podchodzili do wszelkich sensacyjnych informacji na temat Covid-19, zarówno tych negatywnych jak i pozytywnych. Używajmy zdrowego rozsądku!"
   ]
  },
  {
   "cell_type": "markdown",
   "metadata": {},
   "source": [
    "### Celowa dezinformacja a COVID-19\n",
    "W tych chwilach szczególnego stresu i napięć dla społeczeństwa i aparatu zarządzającego państwem czesto zewnetrzni gracze (kraje, organizacje) chcą wprowadzić w państwie zamęt i za pomoca dezinformacji zaburzyć funkcjonowanie instytucji albo wywołać panikę w społeczeństwie. Pamiętaj, że jesteś w tym okresie szczególnie odpowiedzialny za to, co publikujesz w sieciach społecznościowych. Bądż sceptyczny! A jeśli widzisz coś szkodliwego, co może być celową dezinformacją, zapoznaj się z tym https://cyberpolicy.nask.pl/oznaczdezinfo-kampania-wymierzona-w-falszywe-informacje-o-koronawirusie/\n"
   ]
  },
  {
   "cell_type": "markdown",
   "metadata": {},
   "source": [
    "# Co wiemy o COVID-19\n",
    ">\n",
    "/\n",
    "/fastpages/_notebooks/\n",
    "Name\n",
    "Last Modified\n",
    "\n",
    " z dużą pewnością\n",
    "* długi czas inkubacji {2-14 dni, średnio około 6}\n",
    "* spora śmiertelność 1-2 procent przy dostępnych respiratorach = nawet do 7-10 procent przy braku respiratorów\n",
    "* spora część chorych potrzebuje hospitalizacji (10 -20 procent ogółu chorych)\n",
    "* spora część hospitalizowanych potrzebuje intensywnej terapii z respiratorem (ok 5 procent)"
   ]
  },
  {
   "cell_type": "markdown",
   "metadata": {},
   "source": [
    "### Do czego nam znanego jest COVID-19 podobny? \n",
    "Prawdopodobnie do niczego znanego ludziom obecnie żyjącym. Według niektórych modelarzy epidemiologicznych sytuacja z COVID-19 jest najbardziej podobna do pandemii grypy hiszpanki. Dlatego też różni epidemiolodzy sugerują, że czeka nas okres ciężkiej walki i życia z pewnymi ograniczeniami (od naszych działań zależy, jak dużymi) do czasu wynalezienia szczepionki lub bardzo skutecznego leku - różne przewidywania mówią o roku do dwóch, ze średnią około 1,5 roku\n",
    "\n"
   ]
  },
  {
   "cell_type": "markdown",
   "metadata": {},
   "source": [
    "## Jak niektórym krajom udaje się funkcjonować bez lockdownu \n",
    "Zapewne masz wrażenie, że najlepszy sposób radzenia sobie z COVID-19 to powszechny zakaz wychodzenia z domu bez ważnej potrzeby i zakaz zgromadzeń. Słusznie, większość państw z galopującą epidemią musiało zastosować te kroki, aby nie doprowadzić do przeciążenia systemu opieki zdrowotnej. Ale są kraje, które dały radę utrzymać niską liczbę chorych bez wprowadzania daleko idących restrykcji w poruszaniu się i wychodzeniu z domu. To kraje takie jak Singapur, Hong Kong i Tajwan, które musiały się zmierzyć z wirusem SARS w roku 2003 i na własnych błędach nauczyły się najlepszego sposobu postępowania w razie epidemii (https://www.ncbi.nlm.nih.gov/pmc/articles/PMC3367357/#R6)."
   ]
  },
  {
   "cell_type": "markdown",
   "metadata": {},
   "source": [
    "> twitter: https://twitter.com/JRGMHudson/status/1245701985107472385"
   ]
  },
  {
   "cell_type": "markdown",
   "metadata": {},
   "source": [
    "Poszczególne strategie tych państw różnią się w szczegółach i mają parę elementów, których na chwilę obecną i prawdopodobnie w przyszłości nie będziemy mogli wprowadzić w Polsce:\n",
    "* śledzenie obywateli w kwarantannie przez ciągłą lokalizację telefonu komórkowego\n",
    "* powszechne badanie temperatury przed wejściem do budynku użyteczności publicznej"
   ]
  },
  {
   "cell_type": "markdown",
   "metadata": {},
   "source": [
    "Wszystkie te kraje łączy jednak jeden istotny element, który jest centralnym punktem prewencji i zapobiegania zakażeniom:\n",
    "# Wszyscy obywatele noszą maski!\n",
    "\n",
    "![](my_icons/maskup.gif)"
   ]
  },
  {
   "cell_type": "markdown",
   "metadata": {},
   "source": [
    "W wymienionych krajach noszenie masek jest albo uregulowane prawem, albo istnieje presja społeczna, która sprawia, że wszyscy w miejscach publicznych je noszą. Nie są to koniecznie maski typu ppe2, czyli tak zwane respiratory N95 używane przez służby medyczne. Mogą to być maski chirurgiczne lub maski bawełniane. Ich podstawowym zadaniem jest ochrona innych a nie nas samych. Chronią przed wirusem, którego możemy roznosić, nie wiedząc o tym. Powszechne noszenie masek opiera się na następującym założeniu: nosząc maskę, potencjalnie ratuję innych. Tym samym inni nosząc maski, mogą uratować mnie (jesli to oni są nieświadomie chorzy). Jak widać wszystko bazuje na społecznej jedności i odpowiedzialności."
   ]
  },
  {
   "cell_type": "markdown",
   "metadata": {},
   "source": [
    "### Zalecenia WHO i Ministerstwa Zdrowia a zdrowy rozsądek\n",
    "Tutaj dochodzimy do ważnego momentu, w którym musimy użyć zdrowego rozsądku i spróbować sceptycznie podejść do rekomendacji WHO i Ministerstwa, które na obecną chwilę (1 kwietnia 2020) nadal stoją na stanowisku, że noszenie masek przez osoby zdrowe jest nieskuteczne.\n",
    "Spójrzmy na to twierdzenie z dwóch perspektyw: dlaczego WHO i Ministerstwo nie chcą, aby wszyscy chodzili w maseczkach? Możemy z dużym prawdopodobieństwem założyć, że nie chcą, aby maseczek chirurgicznych i respiratorów zabrakło dla pracowników medycznych, którzy ratują życie chorych (wiemy, że na obecnym etapie epidemii maseczek brakuje). Chęć zabezpieczenia masek z silnym filtrem ppe2 dla służby zdrowia jest zrozumiała, nie trzeba jednak w tym celu posuwać się do półprawd (= maseczki są niepotrzebne dla ludzi zdrowych/bez objawów)."
   ]
  },
  {
   "cell_type": "markdown",
   "metadata": {},
   "source": [
    "![](my_icons/doctor.gif)"
   ]
  },
  {
   "cell_type": "markdown",
   "metadata": {},
   "source": [
    "Zarówno WHO jak i Ministerstwo Zdrowia twierdza także, że maseczki nie są skuteczne w blokowaniu przed wdychaniem wirusa i zarażeniem się nim. Tylko dlaczego w takim razie lekarze je noszą? Mnie osobiście tłumaczenie, że potrzebna jest szczególna wiedza medyczna, aby maseczkę nosić prawidłowo, nie przekonuje."
   ]
  },
  {
   "cell_type": "markdown",
   "metadata": {},
   "source": [
    "Dodatkowo argument, że maseczki powinni nosić tylko chorzy, jest w przypadku tej pandemii zupełnie nietrafiony. Skoro inkubacja może trwać nawet dwa tygodnie, to jest możliwe, że funkcjonujemy normalnie, myśląc ze jesteśmy zdrowi, podczas gdy tak naprawdę jesteśmy chorzy i zarażamy w tym czasie innych."
   ]
  },
  {
   "cell_type": "markdown",
   "metadata": {},
   "source": [
    "![](my_icons/sneeze.gif)"
   ]
  },
  {
   "cell_type": "markdown",
   "metadata": {},
   "source": [
    "To można by ograniczyć, gdybyśmy nosili maski."
   ]
  },
  {
   "cell_type": "markdown",
   "metadata": {},
   "source": [
    "<iframe width=\"640\" height=\"360\" src=\"https://www.youtube.com/embed/kYJvU81DKgk\" frameborder=\"0\" allow=\"accelerometer; autoplay; encrypted-media; gyroscope; picture-in-picture\" allowfullscreen></iframe>"
   ]
  },
  {
   "cell_type": "markdown",
   "metadata": {},
   "source": [
    "### Kraje naszego regionu już wprowadzają obowiązkowe noszenie masek w miejscach publicznych\n",
    "Doskonale rozumiem argument, że maski z filtrem klasy ffp2 potrzebne są pracownikom szpitali, a w przypadku pandemii i ich braku ogół społeczeństwa nie powinien ich wykupować. Ale to nie znaczy, że społeczeństwo nie może używać maseczek zrobionych własnoręcznie, wielorazowych itp. Zwłaszcza że ich wartość ochronna w warunkach codziennego używania nie jest dużo gorsza niż tych klasy medycznej.\n",
    "Do takiego wniosku doszło społeczeństwo Czech, gdzie oddolny ruch doprowadził do zmian w prawie i maseczki są teraz obowiązkowe, a obywatele szyja je sami. Podobnie dzieje się na Słowacji, gdzie maseczki w miejscach publicznych są obowiązkowe. \n",
    "Udało nam się na razie zablokować szybki wzrost zachorowań, czemu nie mielibyśmy zmniejszyć go jeszcze bardziej?"
   ]
  },
  {
   "cell_type": "markdown",
   "metadata": {},
   "source": [
    "### Wilk syty (ludzie uratowani przed zakażeniem) i owca cała (gospodarka ma się dobrze)\n",
    "Jeśli jeszcze nie jesteś przekonany do noszenia masek, to pomyśl o dodatkowej zachęcie. Wiem, że możesz się krępować, bo ludzie nie są przyzwyczajeni do widoku ludzi w maskach, możesz czuć się niekomfortowo, tak jak ja pisząc nieanonimowo ten tekst. Pamiętaj, że nikt nie wie, kiedy pojawi się szczepionka, lek albo kiedy epidemia sama się wyciszy (nie ma takiej gwarancji). Ratując życia obywateli, rząd wprowadził maksymalne obostrzenia przemieszczania się i funkcjonowania, ale każdego dnia kosztuje to miliardy złotych i nie wiemy, jak długo jeszcze potrwa. Ba, nie wiemy nawet, czy wszystko za chwilę nie wróci. Taki scenariusz powrotu jest przewidywany na jesień tego roku. \n",
    "Czy zastanawiałeś się, ile do tego czasu ludzi straci pracę z powodu kryzysu? Kryzysu, który wynika nie z głębszego makroekonomicznego stanu gospodarki światowej, ale z powodu obostrzeń wprowadzonych, aby ratować ludzkie życie. Te obostrzenia mogłyby być mocno poluzowane (jak na Tajwanie), gdyby wszyscy dokładniej dbali o higienę, a przynajmniej nosili maski. "
   ]
  },
  {
   "cell_type": "markdown",
   "metadata": {},
   "source": [
    "![](my_icons/sick.gif)"
   ]
  },
  {
   "cell_type": "markdown",
   "metadata": {},
   "source": [
    "Recesja może bezpośrednio dotknąć Ciebie lub Twoich bliskich (jeśli już nie dotknęła), warto więc chyba poświęcić swój komfort (psychiczny i fizyczny) związany z noszeniem maski na ołtarzu ogólnego dobrobytu i normalniejszego funkcjonowania gospodarki i społeczeństwa.\n"
   ]
  },
  {
   "cell_type": "markdown",
   "metadata": {},
   "source": [
    "Tak jak pisałem, warto być sceptycznym i używać zdrowego rozsądku, dlatego warto pogłębić wiedzę na temat rozsiewania się wirusa. Może wyedukujesz kogoś z rodziny, przyjaciela. Może dzięki temu ktoś stwierdzi, że warto świadomie blokować rozsiewanie się wirusa?\n"
   ]
  },
  {
   "cell_type": "markdown",
   "metadata": {},
   "source": [
    "* film (symulacja), jak potencjalnie rozsiewacie wirusa (NA OSIEM METRÓW!), nie nosząc maski https://jamanetwork.com/journals/jama/fullarticle/2763852 - NA OSIEM METRÓW!"
   ]
  },
  {
   "cell_type": "markdown",
   "metadata": {},
   "source": [
    "* Jak różne środki zaradcze pozwalają zmniejszać współczynnik zarażeń:\n",
    "    https://medium.com/@tomaspueyo/coronavirus-the-hammer-and-the-dance-be9337092b56"
   ]
  },
  {
   "cell_type": "markdown",
   "metadata": {},
   "source": [
    "Państwa przestają opierać się rekomendacjach WHO:\n",
    "* Izrael https://uk.reuters.com/article/us-health-coronavirus-israel/all-israelis-must-wear-face-masks-in-public-as-virus-precaution-netanyahu-idUKKBN21J6KZ\n",
    "* USA https://www.msn.com/en-ca/news/world/face-masks-and-coronavirus-asia-may-have-been-right-and-the-rest-of-the-world-is-coming-around/ar-BB1213t3\n",
    "* Austria https://www.dpa-international.com/topic/austria-rolls-obligatory-face-masks-bring-infection-rate-urn%3Anewsml%3Adpa.com%3A20090101%3A200330-99-521637"
   ]
  },
  {
   "cell_type": "markdown",
   "metadata": {},
   "source": [
    "Maskę zrobisz nawet z ręcznika papierowego (najważniejsze, żebyś cokolwiek miał na twarzy): https://www.scmp.com/news/hong-kong/health-environment/article/3050689/how-make-your-own-mask-hong-kong-scientists"
   ]
  },
  {
   "cell_type": "markdown",
   "metadata": {},
   "source": [
    "* Jak działają maski różnej jakości i filtracji i dlaczego nawet maski z papieru zadziałają, jeśli wszyscy zaczniemy je nosić https://medium.com/@Cancerwarrior/covid-19-why-we-should-all-wear-masks-there-is-new-scientific-rationale-280e08ceee71 "
   ]
  },
  {
   "cell_type": "markdown",
   "metadata": {},
   "source": [
    "* Jeśli czujesz się mało pewnie w swojej masce domowej roboty, możesz dodać w środek ręcznik papierowy lub warstwę materiału zamoczoną w nasyconym roztworze soli. Po wysuszeniu takiej warstwy montujemy ją jako warstwę dodatkowego filtru, zgodnie z tymi badaniami: https://www.nature.com/articles/srep39956 nawet jeśli wirus przejdzie przez maske to rozpuści kryształki soli i trafi do układu oddechowego już zdezaktywowany"
   ]
  },
  {
   "cell_type": "markdown",
   "metadata": {},
   "source": [
    " * Jeśli uważasz , że moje argumenty maja nadal za mało poparcia w danych i nauce, to zapraszam: https://docs.google.com/document/d/1HLrm0pqBN_5bdyysOeoOBX4pt4oFDBhsC_jpblXpNtQ/edit#heading=h.9yzpxufkt5ow"
   ]
  },
  {
   "cell_type": "markdown",
   "metadata": {},
   "source": [
    "Na koniec specjalnie dla Was jeden z najlpszych nauczycieli i mentorów uczenia maszynowego w, jak to sam ujał, najważniejszym tutorialu w swoim zyciu:"
   ]
  },
  {
   "cell_type": "markdown",
   "metadata": {},
   "source": [
    "<iframe width=\"640\" height=\"360\" src=\"https://www.youtube.com/embed/hVEVve-3QeM\" frameborder=\"0\" allow=\"accelerometer; autoplay; encrypted-media; gyroscope; picture-in-picture\" allowfullscreen></iframe>"
   ]
  },
  {
   "cell_type": "markdown",
   "metadata": {},
   "source": [
    " TL;DR : Noś maskę (najlepiej własnoręcznie zrobiona lub wielorazowa) jeśli przebywasz na zewnątrz, a dzięki temu kraj nie zbankrutuje, a Ty może nie stracisz pracy"
   ]
  },
  {
   "cell_type": "code",
   "execution_count": null,
   "metadata": {},
   "outputs": [],
   "source": []
  }
 ],
 "metadata": {
  "kernelspec": {
   "display_name": "Python 3",
   "language": "python",
   "name": "python3"
  },
  "language_info": {
   "codemirror_mode": {
    "name": "ipython",
    "version": 3
   },
   "file_extension": ".py",
   "mimetype": "text/x-python",
   "name": "python",
   "nbconvert_exporter": "python",
   "pygments_lexer": "ipython3",
   "version": "3.8.1"
  }
 },
 "nbformat": 4,
 "nbformat_minor": 4
}
