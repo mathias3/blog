{
 "cells": [
  {
   "cell_type": "markdown",
   "metadata": {},
   "source": [
    "# Wilk syty i owca cała\n",
    "> Jak przeżyć pandemię Covid 19 i jednocześnie nie zabić gospodarki.\n",
    "\n",
    "- toc: true \n",
    "- badges: false\n",
    "- comments: true\n",
    "- author: Maciej Osowski\n",
    "- image: images/diagram.png\n",
    "- categories: [masks4all]"
   ]
  },
  {
   "cell_type": "markdown",
   "metadata": {},
   "source": [
    "TL;DR znajduje sie na końcu, "
   ]
  },
  {
   "cell_type": "markdown",
   "metadata": {},
   "source": [
    "# Motywacja: dlaczego\n",
    "Cześć, nazywam sie Maciej Osowski i postanowiłem napisac ten post gdyz wierzę, że tylko wspólnymi siłami i samodyscypliną mozemy zatrzymać epidemię koronowisrusa( przynajmniej w Polsce). Jedynie w ten sposób jestesmy w stanie uratowac bardzo dużo ludzkich istnień w tym moich i twoich bliskich."
   ]
  },
  {
   "cell_type": "markdown",
   "metadata": {},
   "source": [
    "### Krótko o mnie\n",
    "Na co dzień moja  specjalizacja to liczby, obrobka liczb i wyciaganie znaczeń z tych liczb, ale nie zawsze tak było. Skończyłem psychologię i kierunek związany ze studiami nad wywiadem i dezinformacją. \n",
    "### Dlaczego o tym piszę?\n",
    "Z dwóch powodów:\n",
    "Pierwszy to chcąc o coś apelować musze pokazac minimum kwalifikacji zeby byc wiarogodny.\n",
    "Po drugie. To o co apeluje bedzie sie wiazało z małym lub duzym dyskomfortem dla Ciebie. Nie mógłbym Cie o to prosic gdybym sam sie no cos takiego sam nie wystawił. Uwierz mi, pisanie o sobie i wystawianie sie na widok publiczny jest dla mnie bardzoe niekomfortowe\n"
   ]
  },
  {
   "cell_type": "code",
   "execution_count": null,
   "metadata": {},
   "outputs": [],
   "source": []
  },
  {
   "cell_type": "markdown",
   "metadata": {},
   "source": [
    "### O czym nie bedzie ten wpis?\n",
    "Nie bedzie tu odkrywczych wykresów ani analiz. Mozliwe z edowiesz się czegos nowego, ale nie bedzie to nic do czego nie doszedł juz nikt inny. Wszystkie tezy bedą miały żródła , które bedzies zmóg zweryfikowac.\n",
    "W trakcie pracy i nauki nauczyłem sie że nie warto odkrywac koła na nowo. Warto za to stawać na ramionach gigantóœ\n",
    "\n",
    "Celem tego wpisu bedzie zebranie mozliwie najlepszych mozliwych informacji i wyciagniecie wniosków do działania. \n",
    "Nie . Wróc\n",
    "Wyciagniecie wniosków i zachęcenie Cie do działania\n",
    "\n"
   ]
  },
  {
   "cell_type": "markdown",
   "metadata": {},
   "source": [
    "### Co to jest koronowirus COVID 19?\n",
    "Jesli ktoś jeszcze ma wątpliwości to https://www.hopkinsmedicine.org/health/conditions-and-diseases/coronavirus"
   ]
  },
  {
   "cell_type": "markdown",
   "metadata": {},
   "source": [
    "Już wiemy cała siła Covid- 19 zawiera się  dwóch elementach- długim okresie inkubacji i sporej śmiertelności. Wszystkie wczesniejsze wirusy typu SARS , które miały wysoka śmiertelnośc nie mogły sie szybko roznosic , bo smiertelnośc i cięzkie objawy wystepowały szybko i uniemożliwiały zarażonym roznoszenie wirysa. Covid 19 inkubuje sie od 2 do 14 dni- czyli prze taki okres chory chodzi i roznosi wirusa nie mając objawów\n",
    "\n",
    "Ważne: Nie macie objawów, ale zarażacie i funkcjonujac normalnie możecie zarazić wiele osób\n",
    "\n",
    "Dodatkowo z zaleznosci od kraju raportujacego okolo 80 procent zarażonych nie wymaga hospitaliacji. Czyli potencjalnie mimo symptomów, nie czują sie powaznie chorzy i jest ryzyko że mogą nie izolować się\n",
    "Z doswiadczeń lekarzy włoskich dowiadujemy sie tez, że do dużej liczby zakażaeń dochodzi w szpitalach ( ta nieszczesna długa inkubacja) stad jeszcze wyższa śmiertelnosć https://www.statnews.com/2020/03/21/coronavirus-plea-from-italy-treat-patients-at-home/"
   ]
  },
  {
   "cell_type": "markdown",
   "metadata": {},
   "source": [
    "Covid 19 jest na tyle nowy , że ciezko go ujac w wiarygodne statystyki, które na ten moment róznią sie pomieðzy państwami, róznymi systemami raportowania etc. Kraj , pierwszego zarazenia czyli Chiny nie jest wiarygodny jesli chodzi o standardy reportowania\n",
    "To jest bardzo wazny element dla Ciebie i twoich bliskich. Musisz zrozumiec że teraz jak i w najblizszej przyszłości w przestrzeni publicznej bedzie funkcjonowało wiele póprawd, plotek i niweryfikowalnych wiadomosci na temat Covid 19\n",
    "Odpowiedzialnym podejsciem do tego wszystkich tych nowinek jest zdrowy scepcytyzm. "
   ]
  },
  {
   "cell_type": "markdown",
   "metadata": {},
   "source": [
    "### Bądz sceptyczny!\n",
    "Musisz sie przygotować, że w przestrzeni publicznej i sieciach społecznościowych bedzie funkcjonowąło i pojawiało sie sporo niesprawdzonych informacj, półprawd lub goracych newsów na temat Covid 19. Taka jest natura człowieka. Jedni aby zdobyć rozgłos beda tworzyc i posyłac dalej niesprawdzone  informacje a wręcz kłamstwa o spustoszeniu jakie powoduje COVID 19. Inni pod wpływem stresu będa w te informacje wierzyć. Lub odwrotnie  Żeby sobie polepszyć humor i chwycić się jsaiejś nadzieji będą rozprzestrzeniac informacje o lekach i nadzwyczajnych i prostych sposbach na lecznie COVID 19. WAżne jest abysmy ze zdrowym sceptycyzmem podchodzili do nagłych informacji zarówno negatywnych i pozytywnych informacji odnośnie COVID 19. Uzywajmy zdrowego rozsądku!"
   ]
  },
  {
   "cell_type": "markdown",
   "metadata": {},
   "source": [
    "### Celowa dezinformacja a COVID 19\n",
    "W takich chwilach szczególnego stresu i napiec zarówno społeczeństwa jak i aparatu zarzadzającego państwem czesto zewnetrzni gracze ( państwa , organizacje) chcą wprowadzić zamęt w państwie i za pomoca dezinformacji zaburzyc funkcjonowanie instytucji albo wywołac panike społeczeństwa. Pamietaj , że jesteś w tym okresie szczegónie odpowiedzialny za to co rozprowadzasz w sieciach społecznosciowych. Bądż sceptyczny! A jesli widzisz cos szkodliwego co może być celową dezinformacją, zapoznaj sie z tym https://cyberpolicy.nask.pl/oznaczdezinfo-kampania-wymierzona-w-falszywe-informacje-o-koronawirusie/\n"
   ]
  },
  {
   "cell_type": "markdown",
   "metadata": {},
   "source": [
    "# Co wiemy o Covid 19 z duza pewnoscią\n",
    "* długi czas inkubacji {2-14 dni, srednia około 6}\n",
    "* spora śmiertelnosc 1-2 procent przy wolnych respiratorach = nawet do 7-10 procent przy braku respiratorów\n",
    "* spora część chorych potrzebuje hospitalizacji (10 -20 procent ogółu chorych)\n",
    "* spora czesc hospitalizowanych potrzebuje intensywnej terapi z respiratorem 9 ok 5 procent)"
   ]
  },
  {
   "cell_type": "markdown",
   "metadata": {},
   "source": [
    "### Do czego nam znanego jest Covid 19 podobny? \n",
    "Prawdopodobnie do niczego znanego ludziom obecnie zyjacym. Według niektorych modelarzy epidemilologicznych sytuacja z Covid 19 jest najbardziej podobna do pandemi grypy hiszpanki. Daletgo tez rózni epiemiolodzy sugeruja że czaka nas okres cięzkiej walki i zycia do czasu wynalezienia szczepionki lub bardzo skutecznego leku- rozne przewidywania mówia o roku do dwóch z średnią około 1,5 roku\n"
   ]
  },
  {
   "cell_type": "markdown",
   "metadata": {},
   "source": [
    "# Jak niektórym krajom udaje się funkcjonować bez lockdownu \n",
    "Zapewne masz wrażenie, że najlepszy sposób radzenia sobie z COVID 19 to powszechny zakaz wychodznia z domu bez potrzeby i zakaz zgromadzeń. Słusznie, wiekszośc państw z galopująca epidemia musiała zastosowac te kroki, aby nie doprowadzic do przeciążenia systemu opieki zdrowotnej. Ale sa kraje , które dały radę utrzymac niską liczbę chorych bez wprowadzania delkoidacych restrykcji w poruszaniu sie i wychodzeniu z domu. To kraje takie jak Singapur, Hong Kong i Tajwan, które musiały sie zmierzyc z wirusem SARS parę lat temu i na własnych błędach nauczyły się najlepszego sposobu postepowania w razie epidemii.https://www.ncbi.nlm.nih.gov/pmc/articles/PMC3367357/#R6"
   ]
  },
  {
   "cell_type": "markdown",
   "metadata": {},
   "source": [
    "> twitter: https://twitter.com/JRGMHudson/status/1245701985107472385"
   ]
  },
  {
   "cell_type": "markdown",
   "metadata": {},
   "source": [
    " Poszczególne strategie tych państw różnia się w szczegółach i mają pare elementów, których na obecna chwile i prawdopodobnie w przyszłosci nie bedziemy mogli wprowadzić w Polsce:\n",
    "* śledzenie obywateli w kwarantanie przez ciaglą lokalizację telefonu komórkowego\n",
    "* powszechne badanie temperatury przed wejścię do budynku uzeteczności pyblicznej"
   ]
  },
  {
   "cell_type": "markdown",
   "metadata": {},
   "source": [
    "Wszystkie te kraje łaczy jednak jeden istotny element, który jest centralnym punktem prewencji  i zapobiegania zarażeniom:\n",
    "# Wszyscy obywatele noszą maski!\n",
    "W wymienionych krajach noszenie masek jest albo uregulowane prawem, albo istneije presja społeczna , która sprawia, ze wszyscy w miejscach publicznych nosza maski. Nie sa to konieczne maski typu ppe2, czyli tak zwane respiratoryN95 uzywane przez słuzby medyczne. Moga to byc maski chirurgiczne lub maski mawełniane. Ich podstawowym zadnaiem jest ochronna innych a nie nas samych. Chrona przed wirusem , którego możemy roznosic nie wiedzac o tym. Powszechen noszenie masek opiera sie ideai zakładającej, że ja nosząc maske ratuję potencjalnie innych. A inni noszac maskę mogą uratować mnie( jesli to oni sa nieswiadomie chorzy). Jak widac wszystko bazuje na społecznej jednosci i odpowiedzialności\n"
   ]
  },
  {
   "cell_type": "markdown",
   "metadata": {},
   "source": [
    "### Zalecenia WHO i ministerstwa Zdrowia, a zdrowy rozsądek\n",
    "Tutaj dochodzimy do waznego momentu, w którym musimy uzyć zdrowgo rozsądku i spróbować sceptycznie podejśc do rekomendacji WHO i ministerstwa, które na obecna chwile ( 1kwietnia 2020) nadal stoja na stanowisku, ż enoszenie masek przez osoby zdrowe jest nieskuteczne\n",
    "Spójrzmy na to twierdzenie z dówch perspektyw: Dlaczego WHO i ministerstwo nei chca żeby wszyscy chodzili w maseczkach? Bo prawdopodobnie nie chca zeby maseczek chirurgicznych i respiratoróœ zabrakło dla pracowników medyczny, którzy ratuja życie chorych. A wiemy w obecnej sytuacj epidemii masecsek brakuje. zarówno WHO i mnisterstwo twierdza także , ze maseczki nie sa skuteczne w blokowaniu przed wdychaniem i zarażeniem się wirusem . Tylko dlaczego w takim razie lekarze nosza maseczki? Obawiam sie, że tlumaczenie, ze potzrebna jest szczególna wiedza medyczna aby maseczkę nosic prawidłowo mnie , ani Cibie nie przekonuje"
   ]
  },
  {
   "cell_type": "markdown",
   "metadata": {},
   "source": [
    "Dodatkowo argument, że maseczki powinni nosic tylko chorzy jest w przypadku tej pandemii totalnie nietrafiony. Skoro inkubacja może trwac nawet dwa tygodnie, to jest możliwe, że funkcjonujemy normalnie myślac ze jestesmy zdrowi, a tak naprawdę bedąć chorzy zarazamy w tym czasie innych. To mogłoby byc ograniczone gdybysmy nosili maski.\n"
   ]
  },
  {
   "cell_type": "markdown",
   "metadata": {},
   "source": [
    "> youtube: https://www.youtube.com/watch?v=kYJvU81DKgk"
   ]
  },
  {
   "cell_type": "markdown",
   "metadata": {},
   "source": [
    "### Kraje naszego regionu juz wprowadzają obowiazkowe noszenie masek w miejscach publicznych\n",
    "Doskonale rozumiem argument,  maski z filtrem klasy  ffp2 sa potzrebne pracownikom szpitali, a w przypadku pandemii i ich braku ogół społeczeństwa nie powinien ich wykupywać. Ale to nie znaczy, że społeczeństwo nie moze uzywac maseczke zrobionych własnorecznie, wielorazowych itp. Zwłaszcza że ich wartosć ochronna w warunkach codziennego uzywania nie jest duzo gorsza od tych klasy medycznej.\n",
    "Do takiego wniosku doszło społeczenstwo Czech, gdzie oddolny ruch doprowadził do zmian w prawie i maseczki są teraz obowiązkowe, a obywatele szyja je sami. Podobnie dzieje się na Słowacji gdzie maseczki wmiejscach publicznych sa obowiazkowe. \n",
    "Udało nam sie na razie zablokować szybki wzrost zachorowań, czemu nie zminejszyc go jeszcze bardziej?"
   ]
  },
  {
   "cell_type": "markdown",
   "metadata": {},
   "source": [
    "### Wilk syty(ludzie uratowani przed zakażeniem) i owca cała (gospodarka ma się dobrze)\n",
    "Jezli jeszcze nie jesteś przekonany do noszenia masek to pomyśl o dodatkowej zachecie. Wiem, ze może sie wstydzieć, ludzie nie sa przyzwyczjenie do widoku ludzi w maskach, możesz cuć sie niekomfortow tak jak ja pisząc nieanonimowo ten tekst. Pamietaj , ż enikt nie wie kiedy pojawi sie szczepionka, lek , albo kiedy epidamia sama się wysidzy( nie ma takiej gwarancji) . Ratując zycia obywateli rząd wprowadził maksymalne obostrzenia przemieszczania sie i życia, ale kazdego dnia kosztuje to miliardy złotyc i nie wiemy ile to jeszcze potrwa. Ba, nie wiemy nawet czy to za chwile nie wróci. Taki scenariusz powrotu jest przewidywany na jesień tego roku. \n",
    "Czy zastanawiałes się ile do tego czasu ludzi, straci pracę z powodu kryzysu. Kryzysu, który wynika nie z głebszego makroekonomicznego stanu gospodarkiświatowej, ale z powodu obostzreń wprowadzonyc, aby ratowac ludzkie zycie. Te obsotrzenia mogłby byz zluzowane ( jak na Taiwanie) gdyby wszyscy dokładniej dbali o higiene, a przynajmniej nosili maski. "
   ]
  },
  {
   "cell_type": "markdown",
   "metadata": {},
   "source": [
    "Recesja może bezposrednio dotknąc Ciebie lub twoich bliskich( jesli już nie dotknęła) warto chyba poświecic dyskomfort( psychiczny i fizyczny) związany z noszeniem maski na ołtarzu ogólnego dobrobytu i normalniejszego funcjonowania gospodarki i połeczeństwa\n"
   ]
  },
  {
   "cell_type": "markdown",
   "metadata": {},
   "source": [
    "Tak jak pisałem, warto być sceptycznym i uzywać zdrowego rozsądku dlategow arto pogłebic wiedze na temat rzsiewania sie wirusa. Może wyedukujesz kogos z rodziny, przyjaciela. Moze dzieki temu ktos stwierdzi że warto świadomie blokowac roznoszenie się wirusa?\n"
   ]
  },
  {
   "cell_type": "markdown",
   "metadata": {},
   "source": [
    "* film (symulacja), jak potencjalnie rozsiewacie wirusa (NA OSIEM METRÓW!) nie nosząc maski https://jamanetwork.com/journals/jama/fullarticle/2763852 - NA OSIEM METRÓW!"
   ]
  },
  {
   "cell_type": "markdown",
   "metadata": {},
   "source": [
    "* Jak rózne środki zaradcze pozwalają zmniejszac współczynnik zarażeń: \n",
    "    https://medium.com/@tomaspueyo/coronavirus-the-hammer-and-the-dance-be9337092b56"
   ]
  },
  {
   "cell_type": "markdown",
   "metadata": {},
   "source": [
    "Państwa przestają opierac się rekomendacjach WHO:\n",
    "* Izrael https://uk.reuters.com/article/us-health-coronavirus-israel/all-israelis-must-wear-face-masks-in-public-as-virus-precaution-netanyahu-idUKKBN21J6KZ\n",
    "* USA https://www.msn.com/en-ca/news/world/face-masks-and-coronavirus-asia-may-have-been-right-and-the-rest-of-the-world-is-coming-around/ar-BB1213t3\n",
    "* USA II https://qz.com/1826717/do-masks-protect-against-coronavirus/"
   ]
  },
  {
   "cell_type": "markdown",
   "metadata": {},
   "source": [
    "* Maskę zrobisz nawet z recznika papierowego(najwazniejsze, żebyś cokolwiek miał na twarzy) https://www.scmp.com/news/hong-kong/health-environment/article/3050689/how-make-your-own-mask-hong-kong-scientists"
   ]
  },
  {
   "cell_type": "markdown",
   "metadata": {},
   "source": [
    "* Jak działaja maski różnej jakości i filtracji i dlaczego nawet maski z papieru zadziałaja jesliw wszyscy zaczniemy je nosić. https://medium.com/@Cancerwarrior/covid-19-why-we-should-all-wear-masks-there-is-new-scientific-rationale-280e08ceee71"
   ]
  },
  {
   "cell_type": "code",
   "execution_count": null,
   "metadata": {},
   "outputs": [],
   "source": []
  }
 ],
 "metadata": {
  "kernelspec": {
   "display_name": "Python 3",
   "language": "python",
   "name": "python3"
  },
  "language_info": {
   "codemirror_mode": {
    "name": "ipython",
    "version": 3
   },
   "file_extension": ".py",
   "mimetype": "text/x-python",
   "name": "python",
   "nbconvert_exporter": "python",
   "pygments_lexer": "ipython3",
   "version": "3.8.1"
  }
 },
 "nbformat": 4,
 "nbformat_minor": 4
}
